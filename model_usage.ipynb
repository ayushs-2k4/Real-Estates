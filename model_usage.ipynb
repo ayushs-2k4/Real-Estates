{
 "cells": [
  {
   "cell_type": "code",
   "execution_count": 1,
   "metadata": {},
   "outputs": [],
   "source": [
    "from joblib import dump, load\n",
    "import numpy as np\n",
    "model = load(\"Final Model.joblib\")\n"
   ]
  },
  {
   "attachments": {},
   "cell_type": "markdown",
   "metadata": {},
   "source": [
    "To use the model, we have to give the data in a 2D numpy array of shape (1, 13)\n",
    "1 row and 13 columns with columns as:\n",
    "\n",
    "    1. CRIM  ---------->            per capita crime rate by town\n",
    "    2. ZN  ---------->              proportion of residential land zoned for lots over \n",
    "                 25,000 sq.ft.\n",
    "    3. INDUS  ---------->           proportion of non-retail business acres per town\n",
    "    4. CHAS  ---------->            Charles River dummy variable (= 1 if tract bounds \n",
    "                 river; 0 otherwise)\n",
    "    5. NOX  ---------->             nitric oxides concentration (parts per 10 million)\n",
    "    6. RM  ---------->              average number of rooms per dwelling\n",
    "    7. AGE  ---------->             proportion of owner-occupied units built prior to 1940\n",
    "    8. DIS  ---------->             weighted distances to five Boston employment centres\n",
    "    9. RAD  ---------->             index of accessibility to radial highways\n",
    "    10. TAX  ---------->            full-value property-tax rate per $10,000\n",
    "    11. PTRATIO  ---------->        pupil-teacher ratio by town\n",
    "    12. B  ---------->              1000(Bk - 0.63)^2 where Bk is the proportion of blacks \n",
    "                 by town\n",
    "    13. LSTAT  ---------->          % lower status of the population\n",
    "    14. MEDV  ---------->           Median value of owner-occupied homes in $1000's"
   ]
  },
  {
   "cell_type": "code",
   "execution_count": 2,
   "metadata": {},
   "outputs": [],
   "source": [
    "features = np.array([[-0.43942006, 3.12628155, -1.12165014, -0.27288841, -1.422627, -0.23979304, -\n",
    "                     1.31238772, 2.61111401, -1.0016859, -0.5778192, -0.97491834, 0.41164221, -0.86091034]])\n"
   ]
  },
  {
   "cell_type": "code",
   "execution_count": 3,
   "metadata": {},
   "outputs": [
    {
     "name": "stdout",
     "output_type": "stream",
     "text": [
      "Cost of the house with given features should be: $22360.00000000003\n"
     ]
    }
   ],
   "source": [
    "ans = model.predict(features)[0]\n",
    "ans = ans * 1000\n",
    "\n",
    "print(f'Cost of the house with given features should be: ${ans}')\n"
   ]
  }
 ],
 "metadata": {
  "kernelspec": {
   "display_name": "Python 3",
   "language": "python",
   "name": "python3"
  },
  "language_info": {
   "codemirror_mode": {
    "name": "ipython",
    "version": 3
   },
   "file_extension": ".py",
   "mimetype": "text/x-python",
   "name": "python",
   "nbconvert_exporter": "python",
   "pygments_lexer": "ipython3",
   "version": "3.9.6"
  },
  "orig_nbformat": 4
 },
 "nbformat": 4,
 "nbformat_minor": 2
}
